{
 "cells": [
  {
   "cell_type": "code",
   "execution_count": null,
   "id": "88fddc84",
   "metadata": {},
   "outputs": [],
   "source": [
    "import pandas as pd\n",
    "import random\n",
    "from datetime import datetime, timedelta\n",
    "\n",
    "# Define parameters\n",
    "machines = ['M-101', 'M-102', 'M-103', 'M-104']\n",
    "operators = ['Ana', 'Luis', 'Chen', 'Sara']\n",
    "defect_types = ['Surface flaw', 'Color inconsistency', 'Thread break', 'Diameter issue', 'No defect']\n",
    "results = ['Approved', 'Rejected']\n",
    "\n",
    "# Generate data\n",
    "num_records = 300\n",
    "start_date = datetime(2025, 3, 1)\n",
    "data = []\n",
    "\n",
    "for _ in range(num_records):\n",
    "    date_time = start_date + timedelta(minutes=random.randint(0, 43200))  # 30 days\n",
    "    machine = random.choice(machines)\n",
    "    operator = random.choice(operators)\n",
    "    defect = random.choices(defect_types, weights=[0.15, 0.2, 0.2, 0.1, 0.35])[0]\n",
    "    result = 'Rejected' if defect != 'No defect' else 'Approved'\n",
    "    inspection_time = round(random.uniform(2.0, 6.5), 2)  # minutes\n",
    "\n",
    "    data.append([date_time.strftime('%Y-%m-%d %H:%M'), machine, operator, defect, result, inspection_time])\n",
    "\n",
    "# Create DataFrame\n",
    "df = pd.DataFrame(data, columns=[\n",
    "    'Inspection DateTime', 'Machine ID', 'Operator', 'Defect Type', 'Result', 'Inspection Duration (min)'\n",
    "])\n",
    "\n",
    "# Save CSV\n",
    "df.to_csv('simulated_quality_data.csv', index=False)\n",
    "print(\"CSV file 'simulated_quality_data.csv' created successfully.\")\n"
   ]
  }
 ],
 "metadata": {
  "kernelspec": {
   "display_name": "Python 3",
   "language": "python",
   "name": "python3"
  },
  "language_info": {
   "name": "python",
   "version": "3.11.11"
  }
 },
 "nbformat": 4,
 "nbformat_minor": 5
}
